{
 "cells": [
  {
   "cell_type": "code",
   "execution_count": 4,
   "id": "2a8eb7e8-341c-42f2-bd04-12641a05e214",
   "metadata": {},
   "outputs": [],
   "source": [
    "import pandas as pd"
   ]
  },
  {
   "cell_type": "code",
   "execution_count": 2,
   "id": "e1d61e43-42b1-4b26-872e-1abd0aabc909",
   "metadata": {},
   "outputs": [
    {
     "data": {
      "text/plain": [
       "(13109, 3)"
      ]
     },
     "execution_count": 2,
     "metadata": {},
     "output_type": "execute_result"
    }
   ],
   "source": [
    "df = pd.read_csv(\"data/Python Programming Questions Dataset.csv\")\n",
    "df.shape"
   ]
  },
  {
   "cell_type": "code",
   "execution_count": 3,
   "id": "b59055ee-b860-495c-9e10-3d4c635701b7",
   "metadata": {},
   "outputs": [
    {
     "data": {
      "text/html": [
       "<div>\n",
       "<style scoped>\n",
       "    .dataframe tbody tr th:only-of-type {\n",
       "        vertical-align: middle;\n",
       "    }\n",
       "\n",
       "    .dataframe tbody tr th {\n",
       "        vertical-align: top;\n",
       "    }\n",
       "\n",
       "    .dataframe thead th {\n",
       "        text-align: right;\n",
       "    }\n",
       "</style>\n",
       "<table border=\"1\" class=\"dataframe\">\n",
       "  <thead>\n",
       "    <tr style=\"text-align: right;\">\n",
       "      <th></th>\n",
       "      <th>Instruction</th>\n",
       "      <th>Input</th>\n",
       "      <th>Output</th>\n",
       "    </tr>\n",
       "  </thead>\n",
       "  <tbody>\n",
       "    <tr>\n",
       "      <th>0</th>\n",
       "      <td>Write a function to find squares of individual...</td>\n",
       "      <td>NaN</td>\n",
       "      <td>def square_nums(nums):\\r\\n square_nums = list(...</td>\n",
       "    </tr>\n",
       "    <tr>\n",
       "      <th>1</th>\n",
       "      <td>Create a function in Python which takes a list...</td>\n",
       "      <td>[3, 4, 5]</td>\n",
       "      <td>def sum_squares(nums):\\n    result = 0\\n    fo...</td>\n",
       "    </tr>\n",
       "    <tr>\n",
       "      <th>2</th>\n",
       "      <td>Design a function in Python that sorts a list ...</td>\n",
       "      <td>['red', 'green', 'orange']</td>\n",
       "      <td>def sort_list_alphabetically(input_list): \\n  ...</td>\n",
       "    </tr>\n",
       "    <tr>\n",
       "      <th>3</th>\n",
       "      <td>Develop a greedy strategy in Python to find th...</td>\n",
       "      <td>NaN</td>\n",
       "      <td>def min_cost(points):\\n    points.sort()  # so...</td>\n",
       "    </tr>\n",
       "    <tr>\n",
       "      <th>4</th>\n",
       "      <td>Write a Python program to create a singly link...</td>\n",
       "      <td>NaN</td>\n",
       "      <td>class Node():\\n  def __init__(self, data):\\n  ...</td>\n",
       "    </tr>\n",
       "  </tbody>\n",
       "</table>\n",
       "</div>"
      ],
      "text/plain": [
       "                                         Instruction  \\\n",
       "0  Write a function to find squares of individual...   \n",
       "1  Create a function in Python which takes a list...   \n",
       "2  Design a function in Python that sorts a list ...   \n",
       "3  Develop a greedy strategy in Python to find th...   \n",
       "4  Write a Python program to create a singly link...   \n",
       "\n",
       "                        Input  \\\n",
       "0                         NaN   \n",
       "1                   [3, 4, 5]   \n",
       "2  ['red', 'green', 'orange']   \n",
       "3                         NaN   \n",
       "4                         NaN   \n",
       "\n",
       "                                              Output  \n",
       "0  def square_nums(nums):\\r\\n square_nums = list(...  \n",
       "1  def sum_squares(nums):\\n    result = 0\\n    fo...  \n",
       "2  def sort_list_alphabetically(input_list): \\n  ...  \n",
       "3  def min_cost(points):\\n    points.sort()  # so...  \n",
       "4  class Node():\\n  def __init__(self, data):\\n  ...  "
      ]
     },
     "execution_count": 3,
     "metadata": {},
     "output_type": "execute_result"
    }
   ],
   "source": [
    "df.head()"
   ]
  },
  {
   "cell_type": "code",
   "execution_count": 17,
   "id": "b01d4837-4444-40a4-aab8-f5ca03e93bb6",
   "metadata": {},
   "outputs": [
    {
     "data": {
      "text/html": [
       "<div>\n",
       "<style scoped>\n",
       "    .dataframe tbody tr th:only-of-type {\n",
       "        vertical-align: middle;\n",
       "    }\n",
       "\n",
       "    .dataframe tbody tr th {\n",
       "        vertical-align: top;\n",
       "    }\n",
       "\n",
       "    .dataframe thead th {\n",
       "        text-align: right;\n",
       "    }\n",
       "</style>\n",
       "<table border=\"1\" class=\"dataframe\">\n",
       "  <thead>\n",
       "    <tr style=\"text-align: right;\">\n",
       "      <th></th>\n",
       "      <th>Instruction</th>\n",
       "      <th>Output</th>\n",
       "    </tr>\n",
       "  </thead>\n",
       "  <tbody>\n",
       "    <tr>\n",
       "      <th>0</th>\n",
       "      <td>Write a function to find squares of individual...</td>\n",
       "      <td>def square_nums(nums):\\r\\n square_nums = list(...</td>\n",
       "    </tr>\n",
       "    <tr>\n",
       "      <th>1</th>\n",
       "      <td>Create a function in Python which takes a list...</td>\n",
       "      <td>def sum_squares(nums):\\n    result = 0\\n    fo...</td>\n",
       "    </tr>\n",
       "    <tr>\n",
       "      <th>2</th>\n",
       "      <td>Design a function in Python that sorts a list ...</td>\n",
       "      <td>def sort_list_alphabetically(input_list): \\n  ...</td>\n",
       "    </tr>\n",
       "    <tr>\n",
       "      <th>3</th>\n",
       "      <td>Develop a greedy strategy in Python to find th...</td>\n",
       "      <td>def min_cost(points):\\n    points.sort()  # so...</td>\n",
       "    </tr>\n",
       "    <tr>\n",
       "      <th>4</th>\n",
       "      <td>Write a Python program to create a singly link...</td>\n",
       "      <td>class Node():\\n  def __init__(self, data):\\n  ...</td>\n",
       "    </tr>\n",
       "  </tbody>\n",
       "</table>\n",
       "</div>"
      ],
      "text/plain": [
       "                                         Instruction  \\\n",
       "0  Write a function to find squares of individual...   \n",
       "1  Create a function in Python which takes a list...   \n",
       "2  Design a function in Python that sorts a list ...   \n",
       "3  Develop a greedy strategy in Python to find th...   \n",
       "4  Write a Python program to create a singly link...   \n",
       "\n",
       "                                              Output  \n",
       "0  def square_nums(nums):\\r\\n square_nums = list(...  \n",
       "1  def sum_squares(nums):\\n    result = 0\\n    fo...  \n",
       "2  def sort_list_alphabetically(input_list): \\n  ...  \n",
       "3  def min_cost(points):\\n    points.sort()  # so...  \n",
       "4  class Node():\\n  def __init__(self, data):\\n  ...  "
      ]
     },
     "execution_count": 17,
     "metadata": {},
     "output_type": "execute_result"
    }
   ],
   "source": [
    "df[['Instruction' , 'Output']].head()"
   ]
  },
  {
   "cell_type": "code",
   "execution_count": 5,
   "id": "b166cc5f-41c3-4d07-9a2d-0c12a528878b",
   "metadata": {},
   "outputs": [
    {
     "data": {
      "text/plain": [
       "'Write a function to find squares of individual elements in a list using lambda function.'"
      ]
     },
     "execution_count": 5,
     "metadata": {},
     "output_type": "execute_result"
    }
   ],
   "source": [
    "df['Instruction'].head()[0]"
   ]
  },
  {
   "cell_type": "code",
   "execution_count": 7,
   "id": "b64307cd-8e86-47fa-806a-e6bc1f27ea71",
   "metadata": {},
   "outputs": [
    {
     "name": "stdout",
     "output_type": "stream",
     "text": [
      "def square_nums(nums):\n",
      " square_nums = list(map(lambda x: x ** 2, nums))\n",
      " return square_nums\n"
     ]
    }
   ],
   "source": [
    "print(f\"{df['Output'].head()[0]}\")"
   ]
  },
  {
   "cell_type": "code",
   "execution_count": 10,
   "id": "794f434b-e4da-457e-a7df-a7bfb4e1ffcb",
   "metadata": {},
   "outputs": [
    {
     "data": {
      "text/plain": [
       "['def',\n",
       " 'square_nums(nums):\\r\\n',\n",
       " 'square_nums',\n",
       " '=',\n",
       " 'list(map(lambda',\n",
       " 'x:',\n",
       " 'x',\n",
       " '**',\n",
       " '2,',\n",
       " 'nums))\\r\\n',\n",
       " 'return',\n",
       " 'square_nums']"
      ]
     },
     "execution_count": 10,
     "metadata": {},
     "output_type": "execute_result"
    }
   ],
   "source": [
    "df['Output'].head()[0].split(\" \")"
   ]
  },
  {
   "cell_type": "code",
   "execution_count": 11,
   "id": "008eab29-90c3-4da4-b07e-99f5350c8a07",
   "metadata": {},
   "outputs": [
    {
     "data": {
      "text/plain": [
       "'def square_nums(nums):\\r\\n square_nums = list(map(lambda x: x ** 2, nums))\\r\\n return square_nums'"
      ]
     },
     "execution_count": 11,
     "metadata": {},
     "output_type": "execute_result"
    }
   ],
   "source": [
    "df['Output'].head()[0]"
   ]
  },
  {
   "cell_type": "code",
   "execution_count": null,
   "id": "6ddb872a-c617-4c3f-bfd5-7d1714c3ce38",
   "metadata": {},
   "outputs": [],
   "source": []
  },
  {
   "cell_type": "code",
   "execution_count": 13,
   "id": "db7b0e49-3d84-48a6-8a48-de455c9cfb2b",
   "metadata": {
    "scrolled": true
   },
   "outputs": [
    {
     "name": "stdout",
     "output_type": "stream",
     "text": [
      "Collecting transformers\n",
      "  Downloading transformers-4.52.4-py3-none-any.whl.metadata (38 kB)\n",
      "Requirement already satisfied: filelock in c:\\users\\manish\\appdata\\local\\programs\\python\\python312\\lib\\site-packages (from transformers) (3.15.4)\n",
      "Collecting huggingface-hub<1.0,>=0.30.0 (from transformers)\n",
      "  Downloading huggingface_hub-0.33.0-py3-none-any.whl.metadata (14 kB)\n",
      "Requirement already satisfied: numpy>=1.17 in c:\\users\\manish\\appdata\\local\\programs\\python\\python312\\lib\\site-packages (from transformers) (1.26.4)\n",
      "Requirement already satisfied: packaging>=20.0 in c:\\users\\manish\\appdata\\local\\programs\\python\\python312\\lib\\site-packages (from transformers) (24.1)\n",
      "Requirement already satisfied: pyyaml>=5.1 in c:\\users\\manish\\appdata\\local\\programs\\python\\python312\\lib\\site-packages (from transformers) (6.0.2)\n",
      "Requirement already satisfied: regex!=2019.12.17 in c:\\users\\manish\\appdata\\local\\programs\\python\\python312\\lib\\site-packages (from transformers) (2024.9.11)\n",
      "Requirement already satisfied: requests in c:\\users\\manish\\appdata\\local\\programs\\python\\python312\\lib\\site-packages (from transformers) (2.32.3)\n",
      "Collecting tokenizers<0.22,>=0.21 (from transformers)\n",
      "  Downloading tokenizers-0.21.2-cp39-abi3-win_amd64.whl.metadata (6.9 kB)\n",
      "Collecting safetensors>=0.4.3 (from transformers)\n",
      "  Downloading safetensors-0.5.3-cp38-abi3-win_amd64.whl.metadata (3.9 kB)\n",
      "Requirement already satisfied: tqdm>=4.27 in c:\\users\\manish\\appdata\\local\\programs\\python\\python312\\lib\\site-packages (from transformers) (4.66.5)\n",
      "Requirement already satisfied: fsspec>=2023.5.0 in c:\\users\\manish\\appdata\\local\\programs\\python\\python312\\lib\\site-packages (from huggingface-hub<1.0,>=0.30.0->transformers) (2025.5.1)\n",
      "Requirement already satisfied: typing-extensions>=3.7.4.3 in c:\\users\\manish\\appdata\\local\\programs\\python\\python312\\lib\\site-packages (from huggingface-hub<1.0,>=0.30.0->transformers) (4.12.2)\n",
      "Requirement already satisfied: colorama in c:\\users\\manish\\appdata\\local\\programs\\python\\python312\\lib\\site-packages (from tqdm>=4.27->transformers) (0.4.6)\n",
      "Requirement already satisfied: charset-normalizer<4,>=2 in c:\\users\\manish\\appdata\\local\\programs\\python\\python312\\lib\\site-packages (from requests->transformers) (3.3.2)\n",
      "Requirement already satisfied: idna<4,>=2.5 in c:\\users\\manish\\appdata\\local\\programs\\python\\python312\\lib\\site-packages (from requests->transformers) (3.8)\n",
      "Requirement already satisfied: urllib3<3,>=1.21.1 in c:\\users\\manish\\appdata\\local\\programs\\python\\python312\\lib\\site-packages (from requests->transformers) (2.2.3)\n",
      "Requirement already satisfied: certifi>=2017.4.17 in c:\\users\\manish\\appdata\\local\\programs\\python\\python312\\lib\\site-packages (from requests->transformers) (2024.8.30)\n",
      "Downloading transformers-4.52.4-py3-none-any.whl (10.5 MB)\n",
      "   ---------------------------------------- 0.0/10.5 MB ? eta -:--:--\n",
      "   - -------------------------------------- 0.3/10.5 MB ? eta -:--:--\n",
      "   --- ------------------------------------ 0.8/10.5 MB 3.0 MB/s eta 0:00:04\n",
      "   ----- ---------------------------------- 1.3/10.5 MB 2.3 MB/s eta 0:00:04\n",
      "   ------ --------------------------------- 1.6/10.5 MB 2.0 MB/s eta 0:00:05\n",
      "   -------- ------------------------------- 2.1/10.5 MB 2.2 MB/s eta 0:00:04\n",
      "   ----------- ---------------------------- 2.9/10.5 MB 2.4 MB/s eta 0:00:04\n",
      "   ------------ --------------------------- 3.1/10.5 MB 2.2 MB/s eta 0:00:04\n",
      "   -------------- ------------------------- 3.7/10.5 MB 2.3 MB/s eta 0:00:03\n",
      "   ---------------- ----------------------- 4.2/10.5 MB 2.4 MB/s eta 0:00:03\n",
      "   ----------------- ---------------------- 4.5/10.5 MB 2.3 MB/s eta 0:00:03\n",
      "   ------------------- -------------------- 5.0/10.5 MB 2.2 MB/s eta 0:00:03\n",
      "   ---------------------- ----------------- 5.8/10.5 MB 2.4 MB/s eta 0:00:02\n",
      "   ------------------------- -------------- 6.6/10.5 MB 2.5 MB/s eta 0:00:02\n",
      "   -------------------------- ------------- 6.8/10.5 MB 2.5 MB/s eta 0:00:02\n",
      "   ----------------------------- ---------- 7.6/10.5 MB 2.5 MB/s eta 0:00:02\n",
      "   -------------------------------- ------- 8.4/10.5 MB 2.6 MB/s eta 0:00:01\n",
      "   ---------------------------------- ----- 8.9/10.5 MB 2.5 MB/s eta 0:00:01\n",
      "   ----------------------------------- ---- 9.2/10.5 MB 2.5 MB/s eta 0:00:01\n",
      "   -------------------------------------- - 10.0/10.5 MB 2.5 MB/s eta 0:00:01\n",
      "   ---------------------------------------- 10.5/10.5 MB 2.6 MB/s eta 0:00:00\n",
      "Downloading huggingface_hub-0.33.0-py3-none-any.whl (514 kB)\n",
      "Downloading tokenizers-0.21.2-cp39-abi3-win_amd64.whl (2.5 MB)\n",
      "   ---------------------------------------- 0.0/2.5 MB ? eta -:--:--\n",
      "   ------------ --------------------------- 0.8/2.5 MB 4.2 MB/s eta 0:00:01\n",
      "   -------------------- ------------------- 1.3/2.5 MB 3.5 MB/s eta 0:00:01\n",
      "   ----------------------------- ---------- 1.8/2.5 MB 2.9 MB/s eta 0:00:01\n",
      "   ------------------------------------- -- 2.4/2.5 MB 2.9 MB/s eta 0:00:01\n",
      "   ---------------------------------------- 2.5/2.5 MB 2.9 MB/s eta 0:00:00\n",
      "Downloading safetensors-0.5.3-cp38-abi3-win_amd64.whl (308 kB)\n",
      "Installing collected packages: safetensors, huggingface-hub, tokenizers, transformers\n",
      "\n",
      "   ---------- ----------------------------- 1/4 [huggingface-hub]\n",
      "   ---------- ----------------------------- 1/4 [huggingface-hub]\n",
      "   ---------- ----------------------------- 1/4 [huggingface-hub]\n",
      "   ---------- ----------------------------- 1/4 [huggingface-hub]\n",
      "   ---------- ----------------------------- 1/4 [huggingface-hub]\n",
      "   ---------- ----------------------------- 1/4 [huggingface-hub]\n",
      "   ---------- ----------------------------- 1/4 [huggingface-hub]\n",
      "   ---------- ----------------------------- 1/4 [huggingface-hub]\n",
      "   ---------- ----------------------------- 1/4 [huggingface-hub]\n",
      "   ---------- ----------------------------- 1/4 [huggingface-hub]\n",
      "   ---------- ----------------------------- 1/4 [huggingface-hub]\n",
      "   ---------- ----------------------------- 1/4 [huggingface-hub]\n",
      "   ---------- ----------------------------- 1/4 [huggingface-hub]\n",
      "   ---------- ----------------------------- 1/4 [huggingface-hub]\n",
      "   ---------- ----------------------------- 1/4 [huggingface-hub]\n",
      "   ---------- ----------------------------- 1/4 [huggingface-hub]\n",
      "   ---------- ----------------------------- 1/4 [huggingface-hub]\n",
      "   ---------- ----------------------------- 1/4 [huggingface-hub]\n",
      "   -------------------- ------------------- 2/4 [tokenizers]\n",
      "   -------------------- ------------------- 2/4 [tokenizers]\n",
      "   ------------------------------ --------- 3/4 [transformers]\n",
      "   ------------------------------ --------- 3/4 [transformers]\n",
      "   ------------------------------ --------- 3/4 [transformers]\n",
      "   ------------------------------ --------- 3/4 [transformers]\n",
      "   ------------------------------ --------- 3/4 [transformers]\n",
      "   ------------------------------ --------- 3/4 [transformers]\n",
      "   ------------------------------ --------- 3/4 [transformers]\n",
      "   ------------------------------ --------- 3/4 [transformers]\n",
      "   ------------------------------ --------- 3/4 [transformers]\n",
      "   ------------------------------ --------- 3/4 [transformers]\n",
      "   ------------------------------ --------- 3/4 [transformers]\n",
      "   ------------------------------ --------- 3/4 [transformers]\n",
      "   ------------------------------ --------- 3/4 [transformers]\n",
      "   ------------------------------ --------- 3/4 [transformers]\n",
      "   ------------------------------ --------- 3/4 [transformers]\n",
      "   ------------------------------ --------- 3/4 [transformers]\n",
      "   ------------------------------ --------- 3/4 [transformers]\n",
      "   ------------------------------ --------- 3/4 [transformers]\n",
      "   ------------------------------ --------- 3/4 [transformers]\n",
      "   ------------------------------ --------- 3/4 [transformers]\n",
      "   ------------------------------ --------- 3/4 [transformers]\n",
      "   ------------------------------ --------- 3/4 [transformers]\n",
      "   ------------------------------ --------- 3/4 [transformers]\n",
      "   ------------------------------ --------- 3/4 [transformers]\n",
      "   ------------------------------ --------- 3/4 [transformers]\n",
      "   ------------------------------ --------- 3/4 [transformers]\n",
      "   ------------------------------ --------- 3/4 [transformers]\n",
      "   ------------------------------ --------- 3/4 [transformers]\n",
      "   ------------------------------ --------- 3/4 [transformers]\n",
      "   ------------------------------ --------- 3/4 [transformers]\n",
      "   ------------------------------ --------- 3/4 [transformers]\n",
      "   ------------------------------ --------- 3/4 [transformers]\n",
      "   ------------------------------ --------- 3/4 [transformers]\n",
      "   ------------------------------ --------- 3/4 [transformers]\n",
      "   ------------------------------ --------- 3/4 [transformers]\n",
      "   ------------------------------ --------- 3/4 [transformers]\n",
      "   ------------------------------ --------- 3/4 [transformers]\n",
      "   ------------------------------ --------- 3/4 [transformers]\n",
      "   ------------------------------ --------- 3/4 [transformers]\n",
      "   ------------------------------ --------- 3/4 [transformers]\n",
      "   ------------------------------ --------- 3/4 [transformers]\n",
      "   ------------------------------ --------- 3/4 [transformers]\n",
      "   ------------------------------ --------- 3/4 [transformers]\n",
      "   ------------------------------ --------- 3/4 [transformers]\n",
      "   ------------------------------ --------- 3/4 [transformers]\n",
      "   ------------------------------ --------- 3/4 [transformers]\n",
      "   ------------------------------ --------- 3/4 [transformers]\n",
      "   ------------------------------ --------- 3/4 [transformers]\n",
      "   ------------------------------ --------- 3/4 [transformers]\n",
      "   ------------------------------ --------- 3/4 [transformers]\n",
      "   ------------------------------ --------- 3/4 [transformers]\n",
      "   ------------------------------ --------- 3/4 [transformers]\n",
      "   ------------------------------ --------- 3/4 [transformers]\n",
      "   ------------------------------ --------- 3/4 [transformers]\n",
      "   ------------------------------ --------- 3/4 [transformers]\n",
      "   ------------------------------ --------- 3/4 [transformers]\n",
      "   ------------------------------ --------- 3/4 [transformers]\n",
      "   ------------------------------ --------- 3/4 [transformers]\n",
      "   ------------------------------ --------- 3/4 [transformers]\n",
      "   ------------------------------ --------- 3/4 [transformers]\n",
      "   ------------------------------ --------- 3/4 [transformers]\n",
      "   ------------------------------ --------- 3/4 [transformers]\n",
      "   ------------------------------ --------- 3/4 [transformers]\n",
      "   ------------------------------ --------- 3/4 [transformers]\n",
      "   ------------------------------ --------- 3/4 [transformers]\n",
      "   ------------------------------ --------- 3/4 [transformers]\n",
      "   ------------------------------ --------- 3/4 [transformers]\n",
      "   ------------------------------ --------- 3/4 [transformers]\n",
      "   ------------------------------ --------- 3/4 [transformers]\n",
      "   ------------------------------ --------- 3/4 [transformers]\n",
      "   ------------------------------ --------- 3/4 [transformers]\n",
      "   ------------------------------ --------- 3/4 [transformers]\n",
      "   ------------------------------ --------- 3/4 [transformers]\n",
      "   ------------------------------ --------- 3/4 [transformers]\n",
      "   ------------------------------ --------- 3/4 [transformers]\n",
      "   ------------------------------ --------- 3/4 [transformers]\n",
      "   ------------------------------ --------- 3/4 [transformers]\n",
      "   ------------------------------ --------- 3/4 [transformers]\n",
      "   ------------------------------ --------- 3/4 [transformers]\n",
      "   ------------------------------ --------- 3/4 [transformers]\n",
      "   ------------------------------ --------- 3/4 [transformers]\n",
      "   ------------------------------ --------- 3/4 [transformers]\n",
      "   ------------------------------ --------- 3/4 [transformers]\n",
      "   ------------------------------ --------- 3/4 [transformers]\n",
      "   ------------------------------ --------- 3/4 [transformers]\n",
      "   ------------------------------ --------- 3/4 [transformers]\n",
      "   ------------------------------ --------- 3/4 [transformers]\n",
      "   ------------------------------ --------- 3/4 [transformers]\n",
      "   ------------------------------ --------- 3/4 [transformers]\n",
      "   ------------------------------ --------- 3/4 [transformers]\n",
      "   ------------------------------ --------- 3/4 [transformers]\n",
      "   ------------------------------ --------- 3/4 [transformers]\n",
      "   ------------------------------ --------- 3/4 [transformers]\n",
      "   ------------------------------ --------- 3/4 [transformers]\n",
      "   ------------------------------ --------- 3/4 [transformers]\n",
      "   ------------------------------ --------- 3/4 [transformers]\n",
      "   ------------------------------ --------- 3/4 [transformers]\n",
      "   ------------------------------ --------- 3/4 [transformers]\n",
      "   ------------------------------ --------- 3/4 [transformers]\n",
      "   ------------------------------ --------- 3/4 [transformers]\n",
      "   ------------------------------ --------- 3/4 [transformers]\n",
      "   ------------------------------ --------- 3/4 [transformers]\n",
      "   ------------------------------ --------- 3/4 [transformers]\n",
      "   ------------------------------ --------- 3/4 [transformers]\n",
      "   ------------------------------ --------- 3/4 [transformers]\n",
      "   ------------------------------ --------- 3/4 [transformers]\n",
      "   ------------------------------ --------- 3/4 [transformers]\n",
      "   ------------------------------ --------- 3/4 [transformers]\n",
      "   ------------------------------ --------- 3/4 [transformers]\n",
      "   ------------------------------ --------- 3/4 [transformers]\n",
      "   ------------------------------ --------- 3/4 [transformers]\n",
      "   ------------------------------ --------- 3/4 [transformers]\n",
      "   ------------------------------ --------- 3/4 [transformers]\n",
      "   ------------------------------ --------- 3/4 [transformers]\n",
      "   ------------------------------ --------- 3/4 [transformers]\n",
      "   ------------------------------ --------- 3/4 [transformers]\n",
      "   ------------------------------ --------- 3/4 [transformers]\n",
      "   ------------------------------ --------- 3/4 [transformers]\n",
      "   ------------------------------ --------- 3/4 [transformers]\n",
      "   ------------------------------ --------- 3/4 [transformers]\n",
      "   ------------------------------ --------- 3/4 [transformers]\n",
      "   ------------------------------ --------- 3/4 [transformers]\n",
      "   ------------------------------ --------- 3/4 [transformers]\n",
      "   ------------------------------ --------- 3/4 [transformers]\n",
      "   ------------------------------ --------- 3/4 [transformers]\n",
      "   ------------------------------ --------- 3/4 [transformers]\n",
      "   ------------------------------ --------- 3/4 [transformers]\n",
      "   ------------------------------ --------- 3/4 [transformers]\n",
      "   ------------------------------ --------- 3/4 [transformers]\n",
      "   ------------------------------ --------- 3/4 [transformers]\n",
      "   ------------------------------ --------- 3/4 [transformers]\n",
      "   ------------------------------ --------- 3/4 [transformers]\n",
      "   ------------------------------ --------- 3/4 [transformers]\n",
      "   ------------------------------ --------- 3/4 [transformers]\n",
      "   ------------------------------ --------- 3/4 [transformers]\n",
      "   ------------------------------ --------- 3/4 [transformers]\n",
      "   ------------------------------ --------- 3/4 [transformers]\n",
      "   ------------------------------ --------- 3/4 [transformers]\n",
      "   ------------------------------ --------- 3/4 [transformers]\n",
      "   ------------------------------ --------- 3/4 [transformers]\n",
      "   ------------------------------ --------- 3/4 [transformers]\n",
      "   ------------------------------ --------- 3/4 [transformers]\n",
      "   ------------------------------ --------- 3/4 [transformers]\n",
      "   ------------------------------ --------- 3/4 [transformers]\n",
      "   ------------------------------ --------- 3/4 [transformers]\n",
      "   ------------------------------ --------- 3/4 [transformers]\n",
      "   ------------------------------ --------- 3/4 [transformers]\n",
      "   ------------------------------ --------- 3/4 [transformers]\n",
      "   ------------------------------ --------- 3/4 [transformers]\n",
      "   ------------------------------ --------- 3/4 [transformers]\n",
      "   ------------------------------ --------- 3/4 [transformers]\n",
      "   ------------------------------ --------- 3/4 [transformers]\n",
      "   ------------------------------ --------- 3/4 [transformers]\n",
      "   ------------------------------ --------- 3/4 [transformers]\n",
      "   ------------------------------ --------- 3/4 [transformers]\n",
      "   ------------------------------ --------- 3/4 [transformers]\n",
      "   ------------------------------ --------- 3/4 [transformers]\n",
      "   ------------------------------ --------- 3/4 [transformers]\n",
      "   ------------------------------ --------- 3/4 [transformers]\n",
      "   ------------------------------ --------- 3/4 [transformers]\n",
      "   ------------------------------ --------- 3/4 [transformers]\n",
      "   ------------------------------ --------- 3/4 [transformers]\n",
      "   ------------------------------ --------- 3/4 [transformers]\n",
      "   ------------------------------ --------- 3/4 [transformers]\n",
      "   ------------------------------ --------- 3/4 [transformers]\n",
      "   ------------------------------ --------- 3/4 [transformers]\n",
      "   ------------------------------ --------- 3/4 [transformers]\n",
      "   ------------------------------ --------- 3/4 [transformers]\n",
      "   ------------------------------ --------- 3/4 [transformers]\n",
      "   ------------------------------ --------- 3/4 [transformers]\n",
      "   ------------------------------ --------- 3/4 [transformers]\n",
      "   ------------------------------ --------- 3/4 [transformers]\n",
      "   ------------------------------ --------- 3/4 [transformers]\n",
      "   ------------------------------ --------- 3/4 [transformers]\n",
      "   ------------------------------ --------- 3/4 [transformers]\n",
      "   ------------------------------ --------- 3/4 [transformers]\n",
      "   ------------------------------ --------- 3/4 [transformers]\n",
      "   ------------------------------ --------- 3/4 [transformers]\n",
      "   ------------------------------ --------- 3/4 [transformers]\n",
      "   ------------------------------ --------- 3/4 [transformers]\n",
      "   ------------------------------ --------- 3/4 [transformers]\n",
      "   ------------------------------ --------- 3/4 [transformers]\n",
      "   ------------------------------ --------- 3/4 [transformers]\n",
      "   ------------------------------ --------- 3/4 [transformers]\n",
      "   ------------------------------ --------- 3/4 [transformers]\n",
      "   ------------------------------ --------- 3/4 [transformers]\n",
      "   ------------------------------ --------- 3/4 [transformers]\n",
      "   ------------------------------ --------- 3/4 [transformers]\n",
      "   ------------------------------ --------- 3/4 [transformers]\n",
      "   ------------------------------ --------- 3/4 [transformers]\n",
      "   ------------------------------ --------- 3/4 [transformers]\n",
      "   ------------------------------ --------- 3/4 [transformers]\n",
      "   ------------------------------ --------- 3/4 [transformers]\n",
      "   ------------------------------ --------- 3/4 [transformers]\n",
      "   ------------------------------ --------- 3/4 [transformers]\n",
      "   ------------------------------ --------- 3/4 [transformers]\n",
      "   ------------------------------ --------- 3/4 [transformers]\n",
      "   ------------------------------ --------- 3/4 [transformers]\n",
      "   ------------------------------ --------- 3/4 [transformers]\n",
      "   ------------------------------ --------- 3/4 [transformers]\n",
      "   ------------------------------ --------- 3/4 [transformers]\n",
      "   ------------------------------ --------- 3/4 [transformers]\n",
      "   ------------------------------ --------- 3/4 [transformers]\n",
      "   ------------------------------ --------- 3/4 [transformers]\n",
      "   ------------------------------ --------- 3/4 [transformers]\n",
      "   ------------------------------ --------- 3/4 [transformers]\n",
      "   ------------------------------ --------- 3/4 [transformers]\n",
      "   ------------------------------ --------- 3/4 [transformers]\n",
      "   ------------------------------ --------- 3/4 [transformers]\n",
      "   ------------------------------ --------- 3/4 [transformers]\n",
      "   ------------------------------ --------- 3/4 [transformers]\n",
      "   ------------------------------ --------- 3/4 [transformers]\n",
      "   ------------------------------ --------- 3/4 [transformers]\n",
      "   ------------------------------ --------- 3/4 [transformers]\n",
      "   ------------------------------ --------- 3/4 [transformers]\n",
      "   ------------------------------ --------- 3/4 [transformers]\n",
      "   ------------------------------ --------- 3/4 [transformers]\n",
      "   ------------------------------ --------- 3/4 [transformers]\n",
      "   ------------------------------ --------- 3/4 [transformers]\n",
      "   ------------------------------ --------- 3/4 [transformers]\n",
      "   ------------------------------ --------- 3/4 [transformers]\n",
      "   ------------------------------ --------- 3/4 [transformers]\n",
      "   ------------------------------ --------- 3/4 [transformers]\n",
      "   ------------------------------ --------- 3/4 [transformers]\n",
      "   ------------------------------ --------- 3/4 [transformers]\n",
      "   ------------------------------ --------- 3/4 [transformers]\n",
      "   ------------------------------ --------- 3/4 [transformers]\n",
      "   ------------------------------ --------- 3/4 [transformers]\n",
      "   ------------------------------ --------- 3/4 [transformers]\n",
      "   ------------------------------ --------- 3/4 [transformers]\n",
      "   ------------------------------ --------- 3/4 [transformers]\n",
      "   ------------------------------ --------- 3/4 [transformers]\n",
      "   ------------------------------ --------- 3/4 [transformers]\n",
      "   ------------------------------ --------- 3/4 [transformers]\n",
      "   ------------------------------ --------- 3/4 [transformers]\n",
      "   ------------------------------ --------- 3/4 [transformers]\n",
      "   ------------------------------ --------- 3/4 [transformers]\n",
      "   ------------------------------ --------- 3/4 [transformers]\n",
      "   ------------------------------ --------- 3/4 [transformers]\n",
      "   ------------------------------ --------- 3/4 [transformers]\n",
      "   ------------------------------ --------- 3/4 [transformers]\n",
      "   ------------------------------ --------- 3/4 [transformers]\n",
      "   ------------------------------ --------- 3/4 [transformers]\n",
      "   ------------------------------ --------- 3/4 [transformers]\n",
      "   ------------------------------ --------- 3/4 [transformers]\n",
      "   ------------------------------ --------- 3/4 [transformers]\n",
      "   ------------------------------ --------- 3/4 [transformers]\n",
      "   ------------------------------ --------- 3/4 [transformers]\n",
      "   ------------------------------ --------- 3/4 [transformers]\n",
      "   ------------------------------ --------- 3/4 [transformers]\n",
      "   ------------------------------ --------- 3/4 [transformers]\n",
      "   ------------------------------ --------- 3/4 [transformers]\n",
      "   ------------------------------ --------- 3/4 [transformers]\n",
      "   ------------------------------ --------- 3/4 [transformers]\n",
      "   ------------------------------ --------- 3/4 [transformers]\n",
      "   ------------------------------ --------- 3/4 [transformers]\n",
      "   ------------------------------ --------- 3/4 [transformers]\n",
      "   ------------------------------ --------- 3/4 [transformers]\n",
      "   ------------------------------ --------- 3/4 [transformers]\n",
      "   ------------------------------ --------- 3/4 [transformers]\n",
      "   ------------------------------ --------- 3/4 [transformers]\n",
      "   ------------------------------ --------- 3/4 [transformers]\n",
      "   ------------------------------ --------- 3/4 [transformers]\n",
      "   ------------------------------ --------- 3/4 [transformers]\n",
      "   ------------------------------ --------- 3/4 [transformers]\n",
      "   ------------------------------ --------- 3/4 [transformers]\n",
      "   ------------------------------ --------- 3/4 [transformers]\n",
      "   ------------------------------ --------- 3/4 [transformers]\n",
      "   ------------------------------ --------- 3/4 [transformers]\n",
      "   ------------------------------ --------- 3/4 [transformers]\n",
      "   ------------------------------ --------- 3/4 [transformers]\n",
      "   ------------------------------ --------- 3/4 [transformers]\n",
      "   ------------------------------ --------- 3/4 [transformers]\n",
      "   ------------------------------ --------- 3/4 [transformers]\n",
      "   ------------------------------ --------- 3/4 [transformers]\n",
      "   ------------------------------ --------- 3/4 [transformers]\n",
      "   ------------------------------ --------- 3/4 [transformers]\n",
      "   ------------------------------ --------- 3/4 [transformers]\n",
      "   ------------------------------ --------- 3/4 [transformers]\n",
      "   ------------------------------ --------- 3/4 [transformers]\n",
      "   ---------------------------------------- 4/4 [transformers]\n",
      "\n",
      "Successfully installed huggingface-hub-0.33.0 safetensors-0.5.3 tokenizers-0.21.2 transformers-4.52.4\n"
     ]
    }
   ],
   "source": [
    "!pip install transformers"
   ]
  },
  {
   "cell_type": "code",
   "execution_count": 14,
   "id": "ad22c408-bd0c-4c76-aa63-7e099639b559",
   "metadata": {},
   "outputs": [
    {
     "data": {
      "application/vnd.jupyter.widget-view+json": {
       "model_id": "836ae0a6e43f4351a11713fd5dfd623e",
       "version_major": 2,
       "version_minor": 0
      },
      "text/plain": [
       "tokenizer_config.json:   0%|          | 0.00/26.0 [00:00<?, ?B/s]"
      ]
     },
     "metadata": {},
     "output_type": "display_data"
    },
    {
     "name": "stderr",
     "output_type": "stream",
     "text": [
      "C:\\Users\\Manish\\AppData\\Local\\Programs\\Python\\Python312\\Lib\\site-packages\\huggingface_hub\\file_download.py:143: UserWarning: `huggingface_hub` cache-system uses symlinks by default to efficiently store duplicated files but your machine does not support them in C:\\Users\\Manish\\.cache\\huggingface\\hub\\models--gpt2. Caching files will still work but in a degraded version that might require more space on your disk. This warning can be disabled by setting the `HF_HUB_DISABLE_SYMLINKS_WARNING` environment variable. For more details, see https://huggingface.co/docs/huggingface_hub/how-to-cache#limitations.\n",
      "To support symlinks on Windows, you either need to activate Developer Mode or to run Python as an administrator. In order to activate developer mode, see this article: https://docs.microsoft.com/en-us/windows/apps/get-started/enable-your-device-for-development\n",
      "  warnings.warn(message)\n"
     ]
    },
    {
     "data": {
      "application/vnd.jupyter.widget-view+json": {
       "model_id": "57afa71ab89e44d28a407234ce5c2f43",
       "version_major": 2,
       "version_minor": 0
      },
      "text/plain": [
       "vocab.json:   0%|          | 0.00/1.04M [00:00<?, ?B/s]"
      ]
     },
     "metadata": {},
     "output_type": "display_data"
    },
    {
     "data": {
      "application/vnd.jupyter.widget-view+json": {
       "model_id": "0a746804f8fe4dac90b6b46c922c9682",
       "version_major": 2,
       "version_minor": 0
      },
      "text/plain": [
       "merges.txt:   0%|          | 0.00/456k [00:00<?, ?B/s]"
      ]
     },
     "metadata": {},
     "output_type": "display_data"
    },
    {
     "data": {
      "application/vnd.jupyter.widget-view+json": {
       "model_id": "d1c97dba312c4acaa3ab89f595496c0f",
       "version_major": 2,
       "version_minor": 0
      },
      "text/plain": [
       "tokenizer.json:   0%|          | 0.00/1.36M [00:00<?, ?B/s]"
      ]
     },
     "metadata": {},
     "output_type": "display_data"
    },
    {
     "data": {
      "application/vnd.jupyter.widget-view+json": {
       "model_id": "e42839f72c61484691f33f10e259467a",
       "version_major": 2,
       "version_minor": 0
      },
      "text/plain": [
       "config.json:   0%|          | 0.00/665 [00:00<?, ?B/s]"
      ]
     },
     "metadata": {},
     "output_type": "display_data"
    },
    {
     "name": "stdout",
     "output_type": "stream",
     "text": [
      "['def', 'Ġsquare', '_', 'n', 'ums', '(', 'n', 'ums', '):', 'Ċ', 'Ġsquare', '_', 'n', 'ums', 'Ġ=', 'Ġlist', '(', 'map', '(', 'lambda', 'Ġx', ':', 'Ġx', 'Ġ**', 'Ġ2', ',', 'Ġnum', 's', '))', 'Ċ', 'Ġreturn', 'Ġsquare', '_', 'n', 'ums']\n"
     ]
    }
   ],
   "source": [
    "from transformers import GPT2Tokenizer\n",
    "\n",
    "tokenizer = GPT2Tokenizer.from_pretrained(\"gpt2\")\n",
    "code = \"def square_nums(nums):\\n square_nums = list(map(lambda x: x ** 2, nums))\\n return square_nums\"\n",
    "tokens = tokenizer.tokenize(code)\n",
    "print(tokens)"
   ]
  },
  {
   "cell_type": "code",
   "execution_count": 16,
   "id": "ccbc14f0-d308-4ec7-8d59-62aefd728acc",
   "metadata": {},
   "outputs": [
    {
     "name": "stdout",
     "output_type": "stream",
     "text": [
      "['def', 'square_nums', '(', 'nums', ')', ':', 'square_nums', '=', 'list', '(', 'map', '(', 'lambda', 'x', ':', 'x', '*', '*', '2', ',', 'nums', ')', ')', 'return', 'square_nums']\n"
     ]
    }
   ],
   "source": [
    "import re\n",
    "\n",
    "# code = \"\"\"\n",
    "# def square_nums(nums):\n",
    "#     square_nums = list(map(lambda x: x ** 2, nums))\n",
    "#     return square_nums\n",
    "# \"\"\"\n",
    "\n",
    "code = \"def square_nums(nums):\\r\\n square_nums = list(map(lambda x: x ** 2, nums))\\r\\n return square_nums\"\n",
    "\n",
    "tokens = re.findall(r'\\w+|\\S', code)\n",
    "print(tokens)"
   ]
  },
  {
   "cell_type": "code",
   "execution_count": null,
   "id": "238517e5-8ee0-4b48-bc9f-f35dae62723f",
   "metadata": {},
   "outputs": [],
   "source": []
  },
  {
   "cell_type": "code",
   "execution_count": 1,
   "id": "19831a11-14ec-4c28-b87c-0c9e501a51da",
   "metadata": {},
   "outputs": [],
   "source": [
    "q = \"R = 3\\r\\nC = 3\\r\\ndef min_cost(cost, m, n): \\r\\n\\ttc = [[0 for x in range(C)] for x in range(R)] \\r\\n\\ttc[0][0] = cost[0][0] \\r\\n\\tfor i in range(1, m+1): \\r\\n\\t\\ttc[i][0] = tc[i-1][0] + cost[i][0] \\r\\n\\tfor j in range(1, n+1): \\r\\n\\t\\ttc[0][j] = tc[0][j-1] + cost[0][j] \\r\\n\\tfor i in range(1, m+1): \\r\\n\\t\\tfor j in range(1, n+1): \\r\\n\\t\\t\\ttc[i][j] = min(tc[i-1][j-1], tc[i-1][j], tc[i][j-1]) + cost[i][j] \\r\\n\\treturn tc[m][n]\""
   ]
  },
  {
   "cell_type": "code",
   "execution_count": 2,
   "id": "a46c74b6-f16e-4031-b665-fd46e9585f02",
   "metadata": {},
   "outputs": [
    {
     "name": "stdout",
     "output_type": "stream",
     "text": [
      "R = 3\n",
      "C = 3\n",
      "def min_cost(cost, m, n): \n",
      "\ttc = [[0 for x in range(C)] for x in range(R)] \n",
      "\ttc[0][0] = cost[0][0] \n",
      "\tfor i in range(1, m+1): \n",
      "\t\ttc[i][0] = tc[i-1][0] + cost[i][0] \n",
      "\tfor j in range(1, n+1): \n",
      "\t\ttc[0][j] = tc[0][j-1] + cost[0][j] \n",
      "\tfor i in range(1, m+1): \n",
      "\t\tfor j in range(1, n+1): \n",
      "\t\t\ttc[i][j] = min(tc[i-1][j-1], tc[i-1][j], tc[i][j-1]) + cost[i][j] \n",
      "\treturn tc[m][n]\n"
     ]
    }
   ],
   "source": [
    "print(q)"
   ]
  },
  {
   "cell_type": "code",
   "execution_count": null,
   "id": "8986d292-9a30-4580-b005-7700b98becfe",
   "metadata": {},
   "outputs": [],
   "source": []
  },
  {
   "cell_type": "code",
   "execution_count": 5,
   "id": "8ff4f2b6-c877-49a9-8745-9f50a12f742c",
   "metadata": {},
   "outputs": [
    {
     "name": "stderr",
     "output_type": "stream",
     "text": [
      "<>:1: SyntaxWarning: invalid escape sequence '\\P'\n",
      "<>:1: SyntaxWarning: invalid escape sequence '\\P'\n",
      "C:\\Users\\Manish\\AppData\\Local\\Temp\\ipykernel_6052\\3783805708.py:1: SyntaxWarning: invalid escape sequence '\\P'\n",
      "  df = pd.read_csv(\"data\\ProblemSolutionPythonV3.csv\")\n"
     ]
    },
    {
     "data": {
      "text/plain": [
       "(3307, 3)"
      ]
     },
     "execution_count": 5,
     "metadata": {},
     "output_type": "execute_result"
    }
   ],
   "source": [
    "df = pd.read_csv(\"data\\ProblemSolutionPythonV3.csv\")\n",
    "df.shape"
   ]
  },
  {
   "cell_type": "code",
   "execution_count": 6,
   "id": "cd678264-4060-4569-b509-47b9a3e41ede",
   "metadata": {},
   "outputs": [
    {
     "data": {
      "text/html": [
       "<div>\n",
       "<style scoped>\n",
       "    .dataframe tbody tr th:only-of-type {\n",
       "        vertical-align: middle;\n",
       "    }\n",
       "\n",
       "    .dataframe tbody tr th {\n",
       "        vertical-align: top;\n",
       "    }\n",
       "\n",
       "    .dataframe thead th {\n",
       "        text-align: right;\n",
       "    }\n",
       "</style>\n",
       "<table border=\"1\" class=\"dataframe\">\n",
       "  <thead>\n",
       "    <tr style=\"text-align: right;\">\n",
       "      <th></th>\n",
       "      <th>Unnamed: 0</th>\n",
       "      <th>Problem</th>\n",
       "      <th>Python Code</th>\n",
       "    </tr>\n",
       "  </thead>\n",
       "  <tbody>\n",
       "    <tr>\n",
       "      <th>0</th>\n",
       "      <td>0</td>\n",
       "      <td>Write a NumPy program to repeat elements of an...</td>\n",
       "      <td>import numpy as np\\rx = np.repeat(3, 4)\\rprint...</td>\n",
       "    </tr>\n",
       "    <tr>\n",
       "      <th>1</th>\n",
       "      <td>1</td>\n",
       "      <td>Write a Python function to create and print a ...</td>\n",
       "      <td>def printValues():\\n\\tl = list()\\n\\tfor i in r...</td>\n",
       "    </tr>\n",
       "    <tr>\n",
       "      <th>2</th>\n",
       "      <td>2</td>\n",
       "      <td>Write a Python program to remove duplicates fr...</td>\n",
       "      <td>import itertools\\rnum = [[10, 20], [40], [30, ...</td>\n",
       "    </tr>\n",
       "    <tr>\n",
       "      <th>3</th>\n",
       "      <td>3</td>\n",
       "      <td>Write a NumPy program to compute the x and y c...</td>\n",
       "      <td>import numpy as np\\rimport matplotlib.pyplot a...</td>\n",
       "    </tr>\n",
       "    <tr>\n",
       "      <th>4</th>\n",
       "      <td>4</td>\n",
       "      <td>Write a Python program to alter a given SQLite...</td>\n",
       "      <td>import sqlite3\\rfrom sqlite3 import Error\\rdef...</td>\n",
       "    </tr>\n",
       "  </tbody>\n",
       "</table>\n",
       "</div>"
      ],
      "text/plain": [
       "   Unnamed: 0                                            Problem  \\\n",
       "0           0  Write a NumPy program to repeat elements of an...   \n",
       "1           1  Write a Python function to create and print a ...   \n",
       "2           2  Write a Python program to remove duplicates fr...   \n",
       "3           3  Write a NumPy program to compute the x and y c...   \n",
       "4           4  Write a Python program to alter a given SQLite...   \n",
       "\n",
       "                                         Python Code  \n",
       "0  import numpy as np\\rx = np.repeat(3, 4)\\rprint...  \n",
       "1  def printValues():\\n\\tl = list()\\n\\tfor i in r...  \n",
       "2  import itertools\\rnum = [[10, 20], [40], [30, ...  \n",
       "3  import numpy as np\\rimport matplotlib.pyplot a...  \n",
       "4  import sqlite3\\rfrom sqlite3 import Error\\rdef...  "
      ]
     },
     "execution_count": 6,
     "metadata": {},
     "output_type": "execute_result"
    }
   ],
   "source": [
    "df.head()"
   ]
  },
  {
   "cell_type": "code",
   "execution_count": 7,
   "id": "0b56f7f8-8f02-4843-9396-dd9c05d4ec01",
   "metadata": {},
   "outputs": [
    {
     "data": {
      "text/plain": [
       "'Write a NumPy program to repeat elements of an array. '"
      ]
     },
     "execution_count": 7,
     "metadata": {},
     "output_type": "execute_result"
    }
   ],
   "source": [
    "df['Problem'].head()[0]"
   ]
  },
  {
   "cell_type": "code",
   "execution_count": 13,
   "id": "06fbf528-370c-4332-a9e9-1fc6291ffd74",
   "metadata": {},
   "outputs": [
    {
     "name": "stdout",
     "output_type": "stream",
     "text": [
      "print(np.repeat(x, 2)),4]])\n"
     ]
    }
   ],
   "source": [
    "print(df['Python Code'].head()[0])"
   ]
  },
  {
   "cell_type": "code",
   "execution_count": 19,
   "id": "071d84f5-950c-44cf-8196-2f1bd5654828",
   "metadata": {},
   "outputs": [
    {
     "name": "stdout",
     "output_type": "stream",
     "text": [
      "def printValues():\n",
      "\tl = list()\n",
      "\tfor i in range(1,31):\n",
      "\t\tl.append(i**2)\n",
      "\tprint(l)\n",
      "\t\t\n",
      "printValues()\n",
      "\n"
     ]
    }
   ],
   "source": [
    "print(df['Python Code'].head()[1])"
   ]
  },
  {
   "cell_type": "code",
   "execution_count": 20,
   "id": "012471d2-37bb-425e-a205-335bb9f5c0af",
   "metadata": {},
   "outputs": [],
   "source": [
    "q = \"import numpy as np\\r\\nx = np.repeat(3, 4)\\r\\nprint(x)\\r\\nx = np.array([[1,2],[3,4]])\\r\\nprint(np.repeat(x, 2))\\r\\n\""
   ]
  },
  {
   "cell_type": "code",
   "execution_count": 21,
   "id": "f34ee9e4-93b3-4c2f-926a-c4ce3a2c3659",
   "metadata": {},
   "outputs": [
    {
     "name": "stdout",
     "output_type": "stream",
     "text": [
      "import numpy as np\n",
      "x = np.repeat(3, 4)\n",
      "print(x)\n",
      "x = np.array([[1,2],[3,4]])\n",
      "print(np.repeat(x, 2))\n",
      "\n"
     ]
    }
   ],
   "source": [
    "print(q)"
   ]
  },
  {
   "cell_type": "code",
   "execution_count": 22,
   "id": "49fc02c6-7223-45f1-a3a1-62b8af242ee8",
   "metadata": {},
   "outputs": [
    {
     "data": {
      "text/plain": [
       "'def printValues():\\n\\tl = list()\\n\\tfor i in range(1,31):\\n\\t\\tl.append(i**2)\\n\\tprint(l)\\n\\t\\t\\nprintValues()\\n'"
      ]
     },
     "execution_count": 22,
     "metadata": {},
     "output_type": "execute_result"
    }
   ],
   "source": [
    "df['Python Code'].head()[1]"
   ]
  },
  {
   "cell_type": "code",
   "execution_count": 23,
   "id": "621813a5-3435-4e1b-b79b-e2d6c88906df",
   "metadata": {},
   "outputs": [
    {
     "name": "stdout",
     "output_type": "stream",
     "text": [
      "def printValues():\n",
      "\tl = list()\n",
      "\tfor i in range(1,31):\n",
      "\t\tl.append(i**2)\n",
      "\tprint(l)\n",
      "\t\t\n",
      "printValues()\n",
      "\n"
     ]
    }
   ],
   "source": [
    "print(df['Python Code'].head()[1])"
   ]
  },
  {
   "cell_type": "code",
   "execution_count": 26,
   "id": "60693741-34af-4402-8d22-127fa7ecd1d1",
   "metadata": {},
   "outputs": [
    {
     "name": "stdout",
     "output_type": "stream",
     "text": [
      "def printValues():\n",
      "l = list()\n",
      "\tfor i in range(1,31):\n",
      "\t\tl.append(i**2)\n",
      "\tprint(l)\n",
      "\t\t\n",
      "printValues()\n",
      "\n"
     ]
    }
   ],
   "source": [
    "q = 'def printValues():\\r\\nl = list()\\n\\tfor i in range(1,31):\\n\\t\\tl.append(i**2)\\n\\tprint(l)\\n\\t\\t\\nprintValues()\\n'\n",
    "print(q)"
   ]
  },
  {
   "cell_type": "code",
   "execution_count": null,
   "id": "6c77ff7b-3961-497b-a38e-4421182905b6",
   "metadata": {},
   "outputs": [],
   "source": []
  }
 ],
 "metadata": {
  "kernelspec": {
   "display_name": "Python 3 (ipykernel)",
   "language": "python",
   "name": "python3"
  },
  "language_info": {
   "codemirror_mode": {
    "name": "ipython",
    "version": 3
   },
   "file_extension": ".py",
   "mimetype": "text/x-python",
   "name": "python",
   "nbconvert_exporter": "python",
   "pygments_lexer": "ipython3",
   "version": "3.12.1"
  }
 },
 "nbformat": 4,
 "nbformat_minor": 5
}
