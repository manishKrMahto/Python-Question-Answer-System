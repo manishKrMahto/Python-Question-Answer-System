{
 "cells": [
  {
   "cell_type": "code",
   "execution_count": 53,
   "id": "a0372912-e50e-48ea-9ea1-50463b2a0a8b",
   "metadata": {},
   "outputs": [],
   "source": [
    "import pandas as pd\n",
    "import re\n",
    "from transformer import Transformer"
   ]
  },
  {
   "cell_type": "code",
   "execution_count": 54,
   "id": "99362a64-515d-4ef8-a95b-fb8ec64cc477",
   "metadata": {},
   "outputs": [],
   "source": [
    "def code_tokenizer(code):\n",
    "    return re.findall(r'\\s+|[a-zA-Z_]\\w*|[^\\s\\w]', code)"
   ]
  },
  {
   "cell_type": "code",
   "execution_count": 55,
   "id": "06ec81e2-e340-4f84-86fc-966ff33e2d18",
   "metadata": {},
   "outputs": [
    {
     "name": "stdout",
     "output_type": "stream",
     "text": [
      "(16348, 2)\n"
     ]
    },
    {
     "data": {
      "text/plain": [
       "(16336, 2)"
      ]
     },
     "execution_count": 55,
     "metadata": {},
     "output_type": "execute_result"
    }
   ],
   "source": [
    "# Load your dataset\n",
    "merged_df = pd.read_csv(\"data/merged_df.csv\")  # contains 'question' and 'code' columns\n",
    "print(merged_df.shape)\n",
    "\n",
    "merged_df = merged_df[merged_df['question'].apply(lambda x : len(x.split(\" \"))) <= 48 ]\n",
    "merged_df.shape"
   ]
  },
  {
   "cell_type": "code",
   "execution_count": 56,
   "id": "00db5230-f49d-4d96-aa4f-7b2ee3d833db",
   "metadata": {},
   "outputs": [
    {
     "data": {
      "text/html": [
       "<div>\n",
       "<style scoped>\n",
       "    .dataframe tbody tr th:only-of-type {\n",
       "        vertical-align: middle;\n",
       "    }\n",
       "\n",
       "    .dataframe tbody tr th {\n",
       "        vertical-align: top;\n",
       "    }\n",
       "\n",
       "    .dataframe thead th {\n",
       "        text-align: right;\n",
       "    }\n",
       "</style>\n",
       "<table border=\"1\" class=\"dataframe\">\n",
       "  <thead>\n",
       "    <tr style=\"text-align: right;\">\n",
       "      <th></th>\n",
       "      <th>question</th>\n",
       "      <th>code</th>\n",
       "    </tr>\n",
       "  </thead>\n",
       "  <tbody>\n",
       "    <tr>\n",
       "      <th>0</th>\n",
       "      <td>Write a function to find squares of individual...</td>\n",
       "      <td>def square_nums(nums):\\r\\n square_nums = list(...</td>\n",
       "    </tr>\n",
       "    <tr>\n",
       "      <th>1</th>\n",
       "      <td>Create a function in Python which takes a list...</td>\n",
       "      <td>def sum_squares(nums):\\n    result = 0\\n    fo...</td>\n",
       "    </tr>\n",
       "    <tr>\n",
       "      <th>2</th>\n",
       "      <td>Design a function in Python that sorts a list ...</td>\n",
       "      <td>def sort_list_alphabetically(input_list): \\n  ...</td>\n",
       "    </tr>\n",
       "    <tr>\n",
       "      <th>3</th>\n",
       "      <td>Develop a greedy strategy in Python to find th...</td>\n",
       "      <td>def min_cost(points):\\n    points.sort()  # so...</td>\n",
       "    </tr>\n",
       "    <tr>\n",
       "      <th>4</th>\n",
       "      <td>Write a Python program to create a singly link...</td>\n",
       "      <td>class Node():\\n  def __init__(self, data):\\n  ...</td>\n",
       "    </tr>\n",
       "  </tbody>\n",
       "</table>\n",
       "</div>"
      ],
      "text/plain": [
       "                                            question  \\\n",
       "0  Write a function to find squares of individual...   \n",
       "1  Create a function in Python which takes a list...   \n",
       "2  Design a function in Python that sorts a list ...   \n",
       "3  Develop a greedy strategy in Python to find th...   \n",
       "4  Write a Python program to create a singly link...   \n",
       "\n",
       "                                                code  \n",
       "0  def square_nums(nums):\\r\\n square_nums = list(...  \n",
       "1  def sum_squares(nums):\\n    result = 0\\n    fo...  \n",
       "2  def sort_list_alphabetically(input_list): \\n  ...  \n",
       "3  def min_cost(points):\\n    points.sort()  # so...  \n",
       "4  class Node():\\n  def __init__(self, data):\\n  ...  "
      ]
     },
     "execution_count": 56,
     "metadata": {},
     "output_type": "execute_result"
    }
   ],
   "source": [
    "merged_df.head()"
   ]
  },
  {
   "cell_type": "code",
   "execution_count": 57,
   "id": "b5c04d95-958b-454c-b95f-b95a77e5e744",
   "metadata": {},
   "outputs": [],
   "source": [
    "# Apply tokenization to both question and code\n",
    "merged_df['question_tokens'] = merged_df['question'].apply(lambda x : x.split(\" \"))\n",
    "merged_df['code_tokens'] = merged_df['code'].apply(code_tokenizer)\n",
    "\n",
    "# filtering\n",
    "merged_df = merged_df[merged_df['code_tokens'].apply(lambda x : len(x)) <= 200]"
   ]
  },
  {
   "cell_type": "code",
   "execution_count": 58,
   "id": "4ae70480-4d07-43ed-a52e-1e736933b42b",
   "metadata": {},
   "outputs": [
    {
     "data": {
      "text/html": [
       "<div>\n",
       "<style scoped>\n",
       "    .dataframe tbody tr th:only-of-type {\n",
       "        vertical-align: middle;\n",
       "    }\n",
       "\n",
       "    .dataframe tbody tr th {\n",
       "        vertical-align: top;\n",
       "    }\n",
       "\n",
       "    .dataframe thead th {\n",
       "        text-align: right;\n",
       "    }\n",
       "</style>\n",
       "<table border=\"1\" class=\"dataframe\">\n",
       "  <thead>\n",
       "    <tr style=\"text-align: right;\">\n",
       "      <th></th>\n",
       "      <th>question</th>\n",
       "      <th>code</th>\n",
       "      <th>question_tokens</th>\n",
       "      <th>code_tokens</th>\n",
       "    </tr>\n",
       "  </thead>\n",
       "  <tbody>\n",
       "    <tr>\n",
       "      <th>0</th>\n",
       "      <td>Write a function to find squares of individual...</td>\n",
       "      <td>def square_nums(nums):\\r\\n square_nums = list(...</td>\n",
       "      <td>[Write, a, function, to, find, squares, of, in...</td>\n",
       "      <td>[def,  , square_nums, (, nums, ), :, \\r\\n , sq...</td>\n",
       "    </tr>\n",
       "  </tbody>\n",
       "</table>\n",
       "</div>"
      ],
      "text/plain": [
       "                                            question  \\\n",
       "0  Write a function to find squares of individual...   \n",
       "\n",
       "                                                code  \\\n",
       "0  def square_nums(nums):\\r\\n square_nums = list(...   \n",
       "\n",
       "                                     question_tokens  \\\n",
       "0  [Write, a, function, to, find, squares, of, in...   \n",
       "\n",
       "                                         code_tokens  \n",
       "0  [def,  , square_nums, (, nums, ), :, \\r\\n , sq...  "
      ]
     },
     "execution_count": 58,
     "metadata": {},
     "output_type": "execute_result"
    }
   ],
   "source": [
    "merged_df.head(1)"
   ]
  },
  {
   "cell_type": "code",
   "execution_count": 59,
   "id": "fb7f59f9-6240-42ba-b5f8-ff41f3d5ac14",
   "metadata": {},
   "outputs": [
    {
     "name": "stdout",
     "output_type": "stream",
     "text": [
      "vocab length :  8522\n",
      "vocab length :  18560\n"
     ]
    }
   ],
   "source": [
    "# 3. Build vocabulary (from both question and code tokens)\n",
    "from collections import Counter\n",
    "\n",
    "# vocab for Question\n",
    "question_tokens = merged_df['question_tokens'].explode().tolist() \n",
    "question_token_freq = Counter(question_tokens)\n",
    "\n",
    "question_vocab = {token: idx + 2 for idx, (token, _) in enumerate(question_token_freq.items())}  # +2 to reserve <pad>=0 and <unk>=1\n",
    "question_vocab['<pad>'] = 0\n",
    "question_vocab['<unk>'] = 1\n",
    "print(\"vocab length : \", len(question_vocab))\n",
    "\n",
    "# Vocab for Code\n",
    "code_tokens = merged_df['code_tokens'].explode().tolist()\n",
    "code_token_freq = Counter(code_tokens)\n",
    "\n",
    "code_vocab = {token: idx + 1 for idx, (token, _) in enumerate(code_token_freq.items())}  # +1 to reserve <pad>=0 \n",
    "code_vocab['<pad>'] = 0\n",
    "# code_vocab['<unk>'] = 1\n",
    "print(\"vocab length : \", len(code_vocab))"
   ]
  },
  {
   "cell_type": "code",
   "execution_count": 60,
   "id": "f58834f5-70dc-4fb1-841d-5c10eb0a6d83",
   "metadata": {},
   "outputs": [],
   "source": [
    "# Convert sentences to indexes\n",
    "def integer_encoding(sentence, vocab):\n",
    "    int_encoding = []\n",
    "    for word in sentence:\n",
    "        if word in vocab:\n",
    "            int_encoding.append(vocab[word])\n",
    "        else:\n",
    "            int_encoding.append(vocab['<unknown>'])\n",
    "    return int_encoding"
   ]
  },
  {
   "cell_type": "code",
   "execution_count": 61,
   "id": "d6aa70ee-376c-4acd-88c9-964039d31579",
   "metadata": {
    "scrolled": true
   },
   "outputs": [],
   "source": [
    "merged_df['question_ids'] = merged_df['question_tokens'].apply(lambda x: integer_encoding(x, question_vocab))\n",
    "merged_df['code_ids'] = merged_df['code_tokens'].apply(lambda x: integer_encoding(x, code_vocab))"
   ]
  },
  {
   "cell_type": "code",
   "execution_count": 62,
   "id": "1f7cf537-96b6-4ef3-b7b6-039c2ad6c188",
   "metadata": {},
   "outputs": [
    {
     "data": {
      "text/plain": [
       "0    [2, 3, 4, 5, 6, 7, 8, 9, 10, 11, 3, 12, 13, 14...\n",
       "Name: question_ids, dtype: object"
      ]
     },
     "execution_count": 62,
     "metadata": {},
     "output_type": "execute_result"
    }
   ],
   "source": [
    "merged_df['question_ids'].head(1)"
   ]
  },
  {
   "cell_type": "code",
   "execution_count": 63,
   "id": "07e735e5-83cf-4650-9639-80d21125c96c",
   "metadata": {},
   "outputs": [
    {
     "data": {
      "text/html": [
       "<div>\n",
       "<style scoped>\n",
       "    .dataframe tbody tr th:only-of-type {\n",
       "        vertical-align: middle;\n",
       "    }\n",
       "\n",
       "    .dataframe tbody tr th {\n",
       "        vertical-align: top;\n",
       "    }\n",
       "\n",
       "    .dataframe thead th {\n",
       "        text-align: right;\n",
       "    }\n",
       "</style>\n",
       "<table border=\"1\" class=\"dataframe\">\n",
       "  <thead>\n",
       "    <tr style=\"text-align: right;\">\n",
       "      <th></th>\n",
       "      <th>question</th>\n",
       "      <th>code</th>\n",
       "      <th>question_tokens</th>\n",
       "      <th>code_tokens</th>\n",
       "      <th>question_ids</th>\n",
       "      <th>code_ids</th>\n",
       "    </tr>\n",
       "  </thead>\n",
       "  <tbody>\n",
       "    <tr>\n",
       "      <th>0</th>\n",
       "      <td>Write a function to find squares of individual...</td>\n",
       "      <td>def square_nums(nums):\\r\\n square_nums = list(...</td>\n",
       "      <td>[Write, a, function, to, find, squares, of, in...</td>\n",
       "      <td>[def,  , square_nums, (, nums, ), :, \\r\\n , sq...</td>\n",
       "      <td>[2, 3, 4, 5, 6, 7, 8, 9, 10, 11, 3, 12, 13, 14...</td>\n",
       "      <td>[1, 2, 3, 4, 5, 6, 7, 8, 3, 2, 9, 2, 10, 4, 11...</td>\n",
       "    </tr>\n",
       "  </tbody>\n",
       "</table>\n",
       "</div>"
      ],
      "text/plain": [
       "                                            question  \\\n",
       "0  Write a function to find squares of individual...   \n",
       "\n",
       "                                                code  \\\n",
       "0  def square_nums(nums):\\r\\n square_nums = list(...   \n",
       "\n",
       "                                     question_tokens  \\\n",
       "0  [Write, a, function, to, find, squares, of, in...   \n",
       "\n",
       "                                         code_tokens  \\\n",
       "0  [def,  , square_nums, (, nums, ), :, \\r\\n , sq...   \n",
       "\n",
       "                                        question_ids  \\\n",
       "0  [2, 3, 4, 5, 6, 7, 8, 9, 10, 11, 3, 12, 13, 14...   \n",
       "\n",
       "                                            code_ids  \n",
       "0  [1, 2, 3, 4, 5, 6, 7, 8, 3, 2, 9, 2, 10, 4, 11...  "
      ]
     },
     "execution_count": 63,
     "metadata": {},
     "output_type": "execute_result"
    }
   ],
   "source": [
    "merged_df.head(1)"
   ]
  },
  {
   "cell_type": "code",
   "execution_count": 64,
   "id": "a1f75a76-be13-46a8-b9eb-36e1364a5726",
   "metadata": {},
   "outputs": [],
   "source": [
    "import torch\n",
    "from torch.nn.utils.rnn import pad_sequence\n",
    "\n",
    "# Pad question_ids\n",
    "question_tensors = [torch.tensor(seq, dtype=torch.long) for seq in merged_df['question_ids']]\n",
    "padded_question_ids = pad_sequence(question_tensors, batch_first=True, padding_value=0)\n",
    "\n",
    "# Pad code_ids\n",
    "code_tensors = [torch.tensor(seq, dtype=torch.long) for seq in merged_df['code_ids']]\n",
    "padded_code_ids = pad_sequence(code_tensors, batch_first=True, padding_value=0)"
   ]
  },
  {
   "cell_type": "code",
   "execution_count": 65,
   "id": "e57c1650-2f80-4c10-af77-aa82ad88a3c3",
   "metadata": {},
   "outputs": [
    {
     "data": {
      "text/plain": [
       "torch.Tensor"
      ]
     },
     "execution_count": 65,
     "metadata": {},
     "output_type": "execute_result"
    }
   ],
   "source": [
    "type(padded_question_ids)"
   ]
  },
  {
   "cell_type": "code",
   "execution_count": 66,
   "id": "2642a803-d886-4633-8ae1-5faf48d2cee1",
   "metadata": {},
   "outputs": [],
   "source": [
    "from torch.utils.data import Dataset\n",
    "\n",
    "class QACodeDataset(Dataset):\n",
    "    def __init__(self, padded_question_ids, padded_code_ids):\n",
    "        self.questions = padded_question_ids\n",
    "        self.codes = padded_code_ids\n",
    "\n",
    "    def __len__(self):\n",
    "        return len(self.questions)\n",
    "\n",
    "    def __getitem__(self, idx):\n",
    "        question = self.questions[idx]\n",
    "        code = self.codes[idx]\n",
    "        return question, code"
   ]
  },
  {
   "cell_type": "code",
   "execution_count": 67,
   "id": "3b7b859f-d3db-4179-a251-c7c86209a73d",
   "metadata": {},
   "outputs": [],
   "source": [
    "from torch.utils.data import DataLoader\n",
    "\n",
    "dataset = QACodeDataset(padded_question_ids , padded_code_ids)\n",
    "dataloader = DataLoader(dataset , batch_size = 32 , shuffle = True)"
   ]
  },
  {
   "cell_type": "code",
   "execution_count": null,
   "id": "098e1f19-dc79-47e6-8126-5feb8d98cdf9",
   "metadata": {},
   "outputs": [],
   "source": []
  },
  {
   "cell_type": "markdown",
   "id": "587e8e1c-2077-40d6-a7d9-9c90b3dd076f",
   "metadata": {},
   "source": [
    "# Model"
   ]
  },
  {
   "cell_type": "code",
   "execution_count": 68,
   "id": "4bcf2813",
   "metadata": {},
   "outputs": [],
   "source": [
    "model= Transformer(\n",
    "    embed_dim=512,\n",
    "    src_vocab_size=len(question_vocab),\n",
    "    target_vocab_size=len(code_vocab),\n",
    "    en_seq_length=48,        # or more if needed\n",
    "    de_seq_length=200,        # or more if needed\n",
    "    num_layers=6,\n",
    "    expansion_factor=4,   # because 512 * 4 = 2048\n",
    "    n_heads=8\n",
    ")"
   ]
  },
  {
   "cell_type": "code",
   "execution_count": 69,
   "id": "58d4a9a3-bb1f-4c17-b345-d2399ae38129",
   "metadata": {},
   "outputs": [
    {
     "data": {
      "text/plain": [
       "Transformer(\n",
       "  (encoder): TransformerEncoder(\n",
       "    (embedding_layer): Embedding(\n",
       "      (embed): Embedding(8522, 512)\n",
       "    )\n",
       "    (positional_encoder): PositionalEmbedding()\n",
       "    (layers): ModuleList(\n",
       "      (0-5): 6 x TransformerBlock(\n",
       "        (attention): MultiHeadAttention(\n",
       "          (query_matrix): Linear(in_features=512, out_features=512, bias=False)\n",
       "          (key_matrix): Linear(in_features=512, out_features=512, bias=False)\n",
       "          (value_matrix): Linear(in_features=512, out_features=512, bias=False)\n",
       "          (out): Linear(in_features=512, out_features=512, bias=True)\n",
       "        )\n",
       "        (norm1): LayerNorm((512,), eps=1e-05, elementwise_affine=True)\n",
       "        (norm2): LayerNorm((512,), eps=1e-05, elementwise_affine=True)\n",
       "        (feed_forward): Sequential(\n",
       "          (0): Linear(in_features=512, out_features=2048, bias=True)\n",
       "          (1): ReLU()\n",
       "          (2): Linear(in_features=2048, out_features=512, bias=True)\n",
       "        )\n",
       "        (dropout1): Dropout(p=0.1, inplace=False)\n",
       "        (dropout2): Dropout(p=0.1, inplace=False)\n",
       "      )\n",
       "    )\n",
       "  )\n",
       "  (decoder): TransformerDecoder(\n",
       "    (word_embedding): Embedding(18560, 512)\n",
       "    (position_embedding): PositionalEmbedding()\n",
       "    (layers): ModuleList(\n",
       "      (0-5): 6 x DecoderBlock(\n",
       "        (attention): MultiHeadAttention(\n",
       "          (query_matrix): Linear(in_features=512, out_features=512, bias=False)\n",
       "          (key_matrix): Linear(in_features=512, out_features=512, bias=False)\n",
       "          (value_matrix): Linear(in_features=512, out_features=512, bias=False)\n",
       "          (out): Linear(in_features=512, out_features=512, bias=True)\n",
       "        )\n",
       "        (norm): LayerNorm((512,), eps=1e-05, elementwise_affine=True)\n",
       "        (dropout): Dropout(p=0.2, inplace=False)\n",
       "        (transformer_block): TransformerBlock(\n",
       "          (attention): MultiHeadAttention(\n",
       "            (query_matrix): Linear(in_features=512, out_features=512, bias=False)\n",
       "            (key_matrix): Linear(in_features=512, out_features=512, bias=False)\n",
       "            (value_matrix): Linear(in_features=512, out_features=512, bias=False)\n",
       "            (out): Linear(in_features=512, out_features=512, bias=True)\n",
       "          )\n",
       "          (norm1): LayerNorm((512,), eps=1e-05, elementwise_affine=True)\n",
       "          (norm2): LayerNorm((512,), eps=1e-05, elementwise_affine=True)\n",
       "          (feed_forward): Sequential(\n",
       "            (0): Linear(in_features=512, out_features=2048, bias=True)\n",
       "            (1): ReLU()\n",
       "            (2): Linear(in_features=2048, out_features=512, bias=True)\n",
       "          )\n",
       "          (dropout1): Dropout(p=0.1, inplace=False)\n",
       "          (dropout2): Dropout(p=0.1, inplace=False)\n",
       "        )\n",
       "      )\n",
       "    )\n",
       "    (fc_out): Linear(in_features=512, out_features=18560, bias=True)\n",
       "    (dropout): Dropout(p=0.2, inplace=False)\n",
       "  )\n",
       ")"
      ]
     },
     "execution_count": 69,
     "metadata": {},
     "output_type": "execute_result"
    }
   ],
   "source": [
    "model"
   ]
  },
  {
   "cell_type": "code",
   "execution_count": null,
   "id": "e071eeaf-f9a6-4259-879b-734ce1518769",
   "metadata": {},
   "outputs": [],
   "source": []
  }
 ],
 "metadata": {
  "kernelspec": {
   "display_name": "Python 3 (ipykernel)",
   "language": "python",
   "name": "python3"
  },
  "language_info": {
   "codemirror_mode": {
    "name": "ipython",
    "version": 3
   },
   "file_extension": ".py",
   "mimetype": "text/x-python",
   "name": "python",
   "nbconvert_exporter": "python",
   "pygments_lexer": "ipython3",
   "version": "3.12.1"
  }
 },
 "nbformat": 4,
 "nbformat_minor": 5
}
